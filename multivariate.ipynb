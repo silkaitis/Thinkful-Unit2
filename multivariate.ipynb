{
 "cells": [
  {
   "cell_type": "code",
   "execution_count": 23,
   "metadata": {
    "collapsed": false
   },
   "outputs": [],
   "source": [
    "import pandas as pd\n",
    "import statsmodels.api as sm\n",
    "import statsmodels.formula.api as smf\n",
    "import matplotlib.pyplot as plt\n",
    "%matplotlib inline"
   ]
  },
  {
   "cell_type": "code",
   "execution_count": 5,
   "metadata": {
    "collapsed": false
   },
   "outputs": [],
   "source": [
    "loansData=pd.read_csv('https://github.com/Thinkful-Ed/curric-data-001-data-sets/raw/master/loans/loansData.csv')\n",
    "loansData.dropna(inplace=True)\n",
    "loansData['Interest.Rate']=loansData['Interest.Rate'].str.strip('%').astype(float)\n",
    "loansData['Yearly.Income']=loansData['Monthly.Income']*12\n",
    "loansData['Home_Coded']=pd.Categorical(loansData['Home.Ownership']).codes"
   ]
  },
  {
   "cell_type": "code",
   "execution_count": 6,
   "metadata": {
    "collapsed": false
   },
   "outputs": [
    {
     "data": {
      "text/html": [
       "<div>\n",
       "<table border=\"1\" class=\"dataframe\">\n",
       "  <thead>\n",
       "    <tr style=\"text-align: right;\">\n",
       "      <th></th>\n",
       "      <th>Home.Ownership</th>\n",
       "      <th>Home_Coded</th>\n",
       "    </tr>\n",
       "  </thead>\n",
       "  <tbody>\n",
       "    <tr>\n",
       "      <th>23735</th>\n",
       "      <td>MORTGAGE</td>\n",
       "      <td>0</td>\n",
       "    </tr>\n",
       "    <tr>\n",
       "      <th>65882</th>\n",
       "      <td>OWN</td>\n",
       "      <td>2</td>\n",
       "    </tr>\n",
       "    <tr>\n",
       "      <th>55610</th>\n",
       "      <td>MORTGAGE</td>\n",
       "      <td>0</td>\n",
       "    </tr>\n",
       "    <tr>\n",
       "      <th>38576</th>\n",
       "      <td>RENT</td>\n",
       "      <td>3</td>\n",
       "    </tr>\n",
       "    <tr>\n",
       "      <th>3116</th>\n",
       "      <td>RENT</td>\n",
       "      <td>3</td>\n",
       "    </tr>\n",
       "  </tbody>\n",
       "</table>\n",
       "</div>"
      ],
      "text/plain": [
       "      Home.Ownership  Home_Coded\n",
       "23735       MORTGAGE           0\n",
       "65882            OWN           2\n",
       "55610       MORTGAGE           0\n",
       "38576           RENT           3\n",
       "3116            RENT           3"
      ]
     },
     "execution_count": 6,
     "metadata": {},
     "output_type": "execute_result"
    }
   ],
   "source": [
    "loansData[['Home.Ownership','Home_Coded']].tail()"
   ]
  },
  {
   "cell_type": "code",
   "execution_count": 7,
   "metadata": {
    "collapsed": false,
    "scrolled": true
   },
   "outputs": [
    {
     "name": "stdout",
     "output_type": "stream",
     "text": [
      "                                OLS Regression Results                                \n",
      "======================================================================================\n",
      "Dep. Variable:     loansData[\"Interest.Rate\"]   R-squared:                       0.000\n",
      "Model:                                    OLS   Adj. R-squared:                 -0.000\n",
      "Method:                         Least Squares   F-statistic:                    0.4168\n",
      "Date:                        Sat, 16 Jul 2016   Prob (F-statistic):              0.519\n",
      "Time:                                12:17:48   Log-Likelihood:                -7115.5\n",
      "No. Observations:                        2498   AIC:                         1.424e+04\n",
      "Df Residuals:                            2496   BIC:                         1.425e+04\n",
      "Df Model:                                   1                                         \n",
      "Covariance Type:                    nonrobust                                         \n",
      "==============================================================================================\n",
      "                                 coef    std err          t      P>|t|      [95.0% Conf. Int.]\n",
      "----------------------------------------------------------------------------------------------\n",
      "Intercept                     12.9929      0.146     88.807      0.000        12.706    13.280\n",
      "loansData[\"Yearly.Income\"]  1.136e-06   1.76e-06      0.646      0.519     -2.31e-06  4.59e-06\n",
      "==============================================================================\n",
      "Omnibus:                       69.741   Durbin-Watson:                   1.989\n",
      "Prob(Omnibus):                  0.000   Jarque-Bera (JB):               54.034\n",
      "Skew:                           0.273   Prob(JB):                     1.85e-12\n",
      "Kurtosis:                       2.530   Cond. No.                     1.45e+05\n",
      "==============================================================================\n",
      "\n",
      "Warnings:\n",
      "[1] Standard Errors assume that the covariance matrix of the errors is correctly specified.\n",
      "[2] The condition number is large, 1.45e+05. This might indicate that there are\n",
      "strong multicollinearity or other numerical problems.\n"
     ]
    }
   ],
   "source": [
    "#Univariate Model\n",
    "#int_rate = f(yearly.income)\n",
    "model=smf.ols(formula='loansData[\"Interest.Rate\"] ~ loansData[\"Yearly.Income\"]',data=loansData)\n",
    "results=model.fit()\n",
    "\n",
    "print(results.summary())\n",
    "\n",
    "#The model shows that yearly income is significant in predicting the interest rate for a loan but\n",
    "#it doesn't match the data well (R-squared = 0)"
   ]
  },
  {
   "cell_type": "code",
   "execution_count": 8,
   "metadata": {
    "collapsed": false
   },
   "outputs": [
    {
     "name": "stdout",
     "output_type": "stream",
     "text": [
      "                                OLS Regression Results                                \n",
      "======================================================================================\n",
      "Dep. Variable:     loansData[\"Interest.Rate\"]   R-squared:                       0.007\n",
      "Model:                                    OLS   Adj. R-squared:                  0.006\n",
      "Method:                         Least Squares   F-statistic:                     8.274\n",
      "Date:                        Sat, 16 Jul 2016   Prob (F-statistic):           0.000262\n",
      "Time:                                12:17:48   Log-Likelihood:                -7107.5\n",
      "No. Observations:                        2498   AIC:                         1.422e+04\n",
      "Df Residuals:                            2495   BIC:                         1.424e+04\n",
      "Df Model:                                   2                                         \n",
      "Covariance Type:                    nonrobust                                         \n",
      "==============================================================================================\n",
      "                                 coef    std err          t      P>|t|      [95.0% Conf. Int.]\n",
      "----------------------------------------------------------------------------------------------\n",
      "Intercept                     12.5221      0.187     66.918      0.000        12.155    12.889\n",
      "loansData[\"Yearly.Income\"]  2.687e-06    1.8e-06      1.496      0.135     -8.36e-07  6.21e-06\n",
      "loansData[\"Home_Coded\"]        0.2374      0.059      4.016      0.000         0.121     0.353\n",
      "==============================================================================\n",
      "Omnibus:                       67.032   Durbin-Watson:                   1.990\n",
      "Prob(Omnibus):                  0.000   Jarque-Bera (JB):               53.954\n",
      "Skew:                           0.281   Prob(JB):                     1.92e-12\n",
      "Kurtosis:                       2.550   Cond. No.                     1.90e+05\n",
      "==============================================================================\n",
      "\n",
      "Warnings:\n",
      "[1] Standard Errors assume that the covariance matrix of the errors is correctly specified.\n",
      "[2] The condition number is large, 1.9e+05. This might indicate that there are\n",
      "strong multicollinearity or other numerical problems.\n"
     ]
    }
   ],
   "source": [
    "#Multivariate Model\n",
    "#int_rate = f(yearly.income)\n",
    "model=smf.ols(formula='loansData[\"Interest.Rate\"] ~ loansData[\"Yearly.Income\"] + loansData[\"Home_Coded\"]',data=loansData)\n",
    "results=model.fit()\n",
    "\n",
    "print(results.summary())\n",
    "\n",
    "#The model shows that yearly income is significant while home ownership is not significant\n",
    "#in predicting the interest rate for a loan. The model doesn't match the data well (R-squared = 0.007)"
   ]
  },
  {
   "cell_type": "code",
   "execution_count": 9,
   "metadata": {
    "collapsed": false
   },
   "outputs": [
    {
     "name": "stdout",
     "output_type": "stream",
     "text": [
      "                                OLS Regression Results                                \n",
      "======================================================================================\n",
      "Dep. Variable:     loansData[\"Interest.Rate\"]   R-squared:                       0.008\n",
      "Model:                                    OLS   Adj. R-squared:                  0.007\n",
      "Method:                         Least Squares   F-statistic:                     6.588\n",
      "Date:                        Sat, 16 Jul 2016   Prob (F-statistic):           0.000197\n",
      "Time:                                12:17:48   Log-Likelihood:                -7105.9\n",
      "No. Observations:                        2498   AIC:                         1.422e+04\n",
      "Df Residuals:                            2494   BIC:                         1.424e+04\n",
      "Df Model:                                   3                                         \n",
      "Covariance Type:                    nonrobust                                         \n",
      "======================================================================================================================\n",
      "                                                         coef    std err          t      P>|t|      [95.0% Conf. Int.]\n",
      "----------------------------------------------------------------------------------------------------------------------\n",
      "Intercept                                             12.6724      0.205     61.802      0.000        12.270    13.074\n",
      "loansData[\"Yearly.Income\"]                          7.914e-07   2.09e-06      0.380      0.704      -3.3e-06  4.88e-06\n",
      "loansData[\"Home_Coded\"]                                0.0736      0.109      0.675      0.499        -0.140     0.287\n",
      "loansData[\"Yearly.Income\"]:loansData[\"Home_Coded\"]  2.561e-06   1.43e-06      1.789      0.074     -2.47e-07  5.37e-06\n",
      "==============================================================================\n",
      "Omnibus:                       66.657   Durbin-Watson:                   1.994\n",
      "Prob(Omnibus):                  0.000   Jarque-Bera (JB):               53.272\n",
      "Skew:                           0.277   Prob(JB):                     2.70e-12\n",
      "Kurtosis:                       2.548   Cond. No.                     3.97e+05\n",
      "==============================================================================\n",
      "\n",
      "Warnings:\n",
      "[1] Standard Errors assume that the covariance matrix of the errors is correctly specified.\n",
      "[2] The condition number is large, 3.97e+05. This might indicate that there are\n",
      "strong multicollinearity or other numerical problems.\n"
     ]
    }
   ],
   "source": [
    "#Multivariate Model\n",
    "#int_rate = f(yearly.income, home_coded, yearly.income * home_coded)\n",
    "\n",
    "model=smf.ols(formula='loansData[\"Interest.Rate\"] ~ loansData[\"Yearly.Income\"] * loansData[\"Home_Coded\"]',data=loansData)\n",
    "results=model.fit()\n",
    "\n",
    "print(results.summary())\n",
    "\n",
    "#The model shows that yearly income, home ownership and the interaction are significant in predicting the\n",
    "#interest rate for a loan.  Home ownership was not significant in the previous model but it is now significant.\n",
    "#The switch in significance is due to the interaction term.  Home ownership has to be included in the model to correctly\n",
    "#describe the interaction term.  Additionally, R-squared is nearly zero so other significant variables are missing from\n",
    "#this model.  Graphing the data illustrates the lack of fit of the model."
   ]
  },
  {
   "cell_type": "code",
   "execution_count": 24,
   "metadata": {
    "collapsed": false
   },
   "outputs": [
    {
     "data": {
      "image/png": "[encoded data removed]",
      "text/plain": [
       "<matplotlib.figure.Figure at 0xcf6b358>"
      ]
     },
     "metadata": {},
     "output_type": "display_data"
    }
   ],
   "source": [
    "plt.scatter(loansData['Yearly.Income'],loansData['Interest.Rate'])\n",
    "\n",
    "codes=[0,2,3]\n",
    "for c in codes:\n",
    "    hRate=loansData[loansData['Home_Coded']==c]['Interest.Rate']\n",
    "    hIncome=sm.add_constant(loansData[loansData['Home_Coded']==c]['Yearly.Income'])\n",
    "    model=sm.OLS(hRate,hIncome)\n",
    "    results=model.fit()\n",
    "    mIncome=range(int(min(hIncome['Yearly.Income'])),int(max(hIncome['Yearly.Income'])),1000)\n",
    "    mRate=[float(results.params[0])+float(results.params[1])*x for x in mIncome]\n",
    "    plt.plot(mIncome,mRate)\n",
    "\n",
    "plt.title('Interest Rate vs Yearly Income')\n",
    "plt.xlabel('Yearly Income')\n",
    "plt.ylabel('Interest Rate')\n",
    "plt.legend(['Mortgage','Own','Rent'])\n",
    "plt.show()"
   ]
  }
 ],
 "metadata": {
  "anaconda-cloud": {},
  "kernelspec": {
   "display_name": "Python [Root]",
   "language": "python",
   "name": "Python [Root]"
  },
  "language_info": {
   "codemirror_mode": {
    "name": "ipython",
    "version": 2
   },
   "file_extension": ".py",
   "mimetype": "text/x-python",
   "name": "python",
   "nbconvert_exporter": "python",
   "pygments_lexer": "ipython2",
   "version": "2.7.11"
  }
 },
 "nbformat": 4,
 "nbformat_minor": 0
}
