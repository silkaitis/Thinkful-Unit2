{
 "cells": [
  {
   "cell_type": "code",
   "execution_count": 96,
   "metadata": {
    "collapsed": false
   },
   "outputs": [],
   "source": [
    "import pandas as pd\n",
    "import statsmodels.api as sm\n",
    "import statsmodels.formula.api as smf"
   ]
  },
  {
   "cell_type": "code",
   "execution_count": 17,
   "metadata": {
    "collapsed": false
   },
   "outputs": [],
   "source": [
    "loansData=pd.read_csv('https://github.com/Thinkful-Ed/curric-data-001-data-sets/raw/master/loans/loansData.csv')\n",
    "loansData.dropna(inplace=True)\n",
    "loansData['Interest.Rate']=loansData['Interest.Rate'].str.strip('%').astype(float)\n",
    "loansData['Yearly.Income']=loansData['Monthly.Income']*12\n",
    "loansData['Home_Coded']=pd.Categorical(loansData['Home.Ownership']).codes"
   ]
  },
  {
   "cell_type": "code",
   "execution_count": 24,
   "metadata": {
    "collapsed": false
   },
   "outputs": [
    {
     "data": {
      "text/html": [
       "<div>\n",
       "<table border=\"1\" class=\"dataframe\">\n",
       "  <thead>\n",
       "    <tr style=\"text-align: right;\">\n",
       "      <th></th>\n",
       "      <th>Home.Ownership</th>\n",
       "      <th>Home_Coded</th>\n",
       "    </tr>\n",
       "  </thead>\n",
       "  <tbody>\n",
       "    <tr>\n",
       "      <th>81174</th>\n",
       "      <td>MORTGAGE</td>\n",
       "      <td>0</td>\n",
       "    </tr>\n",
       "    <tr>\n",
       "      <th>99592</th>\n",
       "      <td>MORTGAGE</td>\n",
       "      <td>0</td>\n",
       "    </tr>\n",
       "    <tr>\n",
       "      <th>80059</th>\n",
       "      <td>MORTGAGE</td>\n",
       "      <td>0</td>\n",
       "    </tr>\n",
       "    <tr>\n",
       "      <th>15825</th>\n",
       "      <td>MORTGAGE</td>\n",
       "      <td>0</td>\n",
       "    </tr>\n",
       "    <tr>\n",
       "      <th>33182</th>\n",
       "      <td>RENT</td>\n",
       "      <td>3</td>\n",
       "    </tr>\n",
       "  </tbody>\n",
       "</table>\n",
       "</div>"
      ],
      "text/plain": [
       "      Home.Ownership  Home_Coded\n",
       "81174       MORTGAGE           0\n",
       "99592       MORTGAGE           0\n",
       "80059       MORTGAGE           0\n",
       "15825       MORTGAGE           0\n",
       "33182           RENT           3"
      ]
     },
     "execution_count": 24,
     "metadata": {},
     "output_type": "execute_result"
    }
   ],
   "source": [
    "loansData[['Home.Ownership','Home_Coded']]"
   ]
  },
  {
   "cell_type": "code",
   "execution_count": 107,
   "metadata": {
    "collapsed": false,
    "scrolled": true
   },
   "outputs": [
    {
     "name": "stdout",
     "output_type": "stream",
     "text": [
      "                                OLS Regression Results                                \n",
      "======================================================================================\n",
      "Dep. Variable:     loansData[\"Interest.Rate\"]   R-squared:                       0.000\n",
      "Model:                                    OLS   Adj. R-squared:                 -0.000\n",
      "Method:                         Least Squares   F-statistic:                    0.4168\n",
      "Date:                        Fri, 15 Jul 2016   Prob (F-statistic):              0.519\n",
      "Time:                                16:55:52   Log-Likelihood:                -7115.5\n",
      "No. Observations:                        2498   AIC:                         1.424e+04\n",
      "Df Residuals:                            2496   BIC:                         1.425e+04\n",
      "Df Model:                                   1                                         \n",
      "Covariance Type:                    nonrobust                                         \n",
      "==============================================================================================\n",
      "                                 coef    std err          t      P>|t|      [95.0% Conf. Int.]\n",
      "----------------------------------------------------------------------------------------------\n",
      "Intercept                     12.9929      0.146     88.807      0.000        12.706    13.280\n",
      "loansData[\"Yearly.Income\"]  1.136e-06   1.76e-06      0.646      0.519     -2.31e-06  4.59e-06\n",
      "==============================================================================\n",
      "Omnibus:                       69.741   Durbin-Watson:                   1.989\n",
      "Prob(Omnibus):                  0.000   Jarque-Bera (JB):               54.034\n",
      "Skew:                           0.273   Prob(JB):                     1.85e-12\n",
      "Kurtosis:                       2.530   Cond. No.                     1.45e+05\n",
      "==============================================================================\n",
      "\n",
      "Warnings:\n",
      "[1] Standard Errors assume that the covariance matrix of the errors is correctly specified.\n",
      "[2] The condition number is large, 1.45e+05. This might indicate that there are\n",
      "strong multicollinearity or other numerical problems.\n"
     ]
    }
   ],
   "source": [
    "#Univariate Model\n",
    "#int_rate = f(yearly.income)\n",
    "model=smf.ols(formula='loansData[\"Interest.Rate\"] ~ loansData[\"Yearly.Income\"]',data=loansData)\n",
    "results=model.fit()\n",
    "\n",
    "print(results.summary())"
   ]
  },
  {
   "cell_type": "code",
   "execution_count": 108,
   "metadata": {
    "collapsed": false
   },
   "outputs": [
    {
     "name": "stdout",
     "output_type": "stream",
     "text": [
      "                                OLS Regression Results                                \n",
      "======================================================================================\n",
      "Dep. Variable:     loansData[\"Interest.Rate\"]   R-squared:                       0.007\n",
      "Model:                                    OLS   Adj. R-squared:                  0.006\n",
      "Method:                         Least Squares   F-statistic:                     8.274\n",
      "Date:                        Fri, 15 Jul 2016   Prob (F-statistic):           0.000262\n",
      "Time:                                16:57:37   Log-Likelihood:                -7107.5\n",
      "No. Observations:                        2498   AIC:                         1.422e+04\n",
      "Df Residuals:                            2495   BIC:                         1.424e+04\n",
      "Df Model:                                   2                                         \n",
      "Covariance Type:                    nonrobust                                         \n",
      "==============================================================================================\n",
      "                                 coef    std err          t      P>|t|      [95.0% Conf. Int.]\n",
      "----------------------------------------------------------------------------------------------\n",
      "Intercept                     12.5221      0.187     66.918      0.000        12.155    12.889\n",
      "loansData[\"Yearly.Income\"]  2.687e-06    1.8e-06      1.496      0.135     -8.36e-07  6.21e-06\n",
      "loansData[\"Home_Coded\"]        0.2374      0.059      4.016      0.000         0.121     0.353\n",
      "==============================================================================\n",
      "Omnibus:                       67.032   Durbin-Watson:                   1.990\n",
      "Prob(Omnibus):                  0.000   Jarque-Bera (JB):               53.954\n",
      "Skew:                           0.281   Prob(JB):                     1.92e-12\n",
      "Kurtosis:                       2.550   Cond. No.                     1.90e+05\n",
      "==============================================================================\n",
      "\n",
      "Warnings:\n",
      "[1] Standard Errors assume that the covariance matrix of the errors is correctly specified.\n",
      "[2] The condition number is large, 1.9e+05. This might indicate that there are\n",
      "strong multicollinearity or other numerical problems.\n"
     ]
    }
   ],
   "source": [
    "#Multivariate Model\n",
    "#int_rate = f(yearly.income)\n",
    "model=smf.ols(formula='loansData[\"Interest.Rate\"] ~ loansData[\"Yearly.Income\"] + loansData[\"Home_Coded\"]',data=loansData)\n",
    "results=model.fit()\n",
    "\n",
    "print(results.summary())"
   ]
  },
  {
   "cell_type": "code",
   "execution_count": 109,
   "metadata": {
    "collapsed": false
   },
   "outputs": [
    {
     "name": "stdout",
     "output_type": "stream",
     "text": [
      "                                OLS Regression Results                                \n",
      "======================================================================================\n",
      "Dep. Variable:     loansData[\"Interest.Rate\"]   R-squared:                       0.008\n",
      "Model:                                    OLS   Adj. R-squared:                  0.007\n",
      "Method:                         Least Squares   F-statistic:                     6.588\n",
      "Date:                        Fri, 15 Jul 2016   Prob (F-statistic):           0.000197\n",
      "Time:                                16:58:25   Log-Likelihood:                -7105.9\n",
      "No. Observations:                        2498   AIC:                         1.422e+04\n",
      "Df Residuals:                            2494   BIC:                         1.424e+04\n",
      "Df Model:                                   3                                         \n",
      "Covariance Type:                    nonrobust                                         \n",
      "======================================================================================================================\n",
      "                                                         coef    std err          t      P>|t|      [95.0% Conf. Int.]\n",
      "----------------------------------------------------------------------------------------------------------------------\n",
      "Intercept                                             12.6724      0.205     61.802      0.000        12.270    13.074\n",
      "loansData[\"Yearly.Income\"]                          7.914e-07   2.09e-06      0.380      0.704      -3.3e-06  4.88e-06\n",
      "loansData[\"Home_Coded\"]                                0.0736      0.109      0.675      0.499        -0.140     0.287\n",
      "loansData[\"Yearly.Income\"]:loansData[\"Home_Coded\"]  2.561e-06   1.43e-06      1.789      0.074     -2.47e-07  5.37e-06\n",
      "==============================================================================\n",
      "Omnibus:                       66.657   Durbin-Watson:                   1.994\n",
      "Prob(Omnibus):                  0.000   Jarque-Bera (JB):               53.272\n",
      "Skew:                           0.277   Prob(JB):                     2.70e-12\n",
      "Kurtosis:                       2.548   Cond. No.                     3.97e+05\n",
      "==============================================================================\n",
      "\n",
      "Warnings:\n",
      "[1] Standard Errors assume that the covariance matrix of the errors is correctly specified.\n",
      "[2] The condition number is large, 3.97e+05. This might indicate that there are\n",
      "strong multicollinearity or other numerical problems.\n"
     ]
    }
   ],
   "source": [
    "#Multivariate Model\n",
    "#int_rate = f(yearly.income, home_coded, yearly.income * home_coded)\n",
    "\n",
    "model=smf.ols(formula='loansData[\"Interest.Rate\"] ~ loansData[\"Yearly.Income\"] * loansData[\"Home_Coded\"]',data=loansData)\n",
    "results=model.fit()\n",
    "\n",
    "print(results.summary())"
   ]
  }
 ],
 "metadata": {
  "anaconda-cloud": {},
  "kernelspec": {
   "display_name": "Python [Root]",
   "language": "python",
   "name": "Python [Root]"
  },
  "language_info": {
   "codemirror_mode": {
    "name": "ipython",
    "version": 3
   },
   "file_extension": ".py",
   "mimetype": "text/x-python",
   "name": "python",
   "nbconvert_exporter": "python",
   "pygments_lexer": "ipython3",
   "version": "3.5.1"
  }
 },
 "nbformat": 4,
 "nbformat_minor": 0
}
