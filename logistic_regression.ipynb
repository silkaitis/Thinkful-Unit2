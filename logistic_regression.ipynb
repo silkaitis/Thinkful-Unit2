{
 "cells": [
  {
   "cell_type": "code",
   "execution_count": 10,
   "metadata": {
    "collapsed": false
   },
   "outputs": [],
   "source": [
    "import pandas as pd\n",
    "import statsmodels.api as sm\n",
    "import math\n",
    "import matplotlib.pyplot as plt\n",
    "%matplotlib inline"
   ]
  },
  {
   "cell_type": "code",
   "execution_count": 3,
   "metadata": {
    "collapsed": false
   },
   "outputs": [],
   "source": [
    "loansData=pd.read_csv('https://github.com/Thinkful-Ed/curric-data-001-data-sets/raw/master/loans/loansData.csv')\n",
    "loansData.dropna(inplace=True)\n",
    "loansData['FICO.Score']=loansData['FICO.Range'].str.split('-',expand=True).astype(int)[0]\n",
    "loansData['Interest.Rate']=loansData['Interest.Rate'].str.strip('%').astype(float)\n",
    "loansData['IR_TF']=[0 if x < 12 else 1 for x in loansData['Interest.Rate']]"
   ]
  },
  {
   "cell_type": "code",
   "execution_count": 6,
   "metadata": {
    "collapsed": false,
    "scrolled": true
   },
   "outputs": [],
   "source": [
    "loansData['Intercept']=1\n",
    "ind_vars=['Amount.Funded.By.Investors','FICO.Score','Intercept']"
   ]
  },
  {
   "cell_type": "code",
   "execution_count": 7,
   "metadata": {
    "collapsed": false
   },
   "outputs": [
    {
     "name": "stdout",
     "output_type": "stream",
     "text": [
      "Optimization terminated successfully.\n",
      "         Current function value: 0.322737\n",
      "         Iterations 8\n",
      "Amount.Funded.By.Investors     0.000170\n",
      "FICO.Score                    -0.085952\n",
      "Intercept                     59.194610\n",
      "dtype: float64\n"
     ]
    }
   ],
   "source": [
    "logit=sm.Logit(loansData['IR_TF'],loansData[ind_vars])\n",
    "result=logit.fit()\n",
    "coeff=result.params\n",
    "print(coeff)"
   ]
  },
  {
   "cell_type": "code",
   "execution_count": 8,
   "metadata": {
    "collapsed": false
   },
   "outputs": [],
   "source": [
    "def logistic_function(FICO,LoanAmt,coeff):\n",
    "    prob = 1/(1 + math.exp(coeff[2] + (coeff[1]*FICO) +(coeff[0]*LoanAmt)))\n",
    "    return(round(prob,3))"
   ]
  },
  {
   "cell_type": "code",
   "execution_count": 9,
   "metadata": {
    "collapsed": false
   },
   "outputs": [
    {
     "data": {
      "text/plain": [
       "0.728"
      ]
     },
     "execution_count": 9,
     "metadata": {},
     "output_type": "execute_result"
    }
   ],
   "source": [
    "logistic_function(720,10000,coeff)"
   ]
  },
  {
   "cell_type": "code",
   "execution_count": 15,
   "metadata": {
    "collapsed": false
   },
   "outputs": [
    {
     "data": {
      "image/png": "[encoded data removed]",
      "text/plain": [
       "<matplotlib.figure.Figure at 0xea951d0>"
      ]
     },
     "metadata": {},
     "output_type": "display_data"
    }
   ],
   "source": [
    "p1 = [logistic_function(x,10000,coeff) for x in range(550,950)]\n",
    "p2 = [logistic_function(x,10000,-1*coeff) for x in range(550,950)]\n",
    "plt.plot(range(550,950),p1)\n",
    "plt.plot(range(550,950),p2)\n",
    "plt.legend(['Coeff','-Coeff'])\n",
    "plt.show()"
   ]
  },
  {
   "cell_type": "code",
   "execution_count": 19,
   "metadata": {
    "collapsed": false,
    "scrolled": true
   },
   "outputs": [
    {
     "data": {
      "text/html": [
       "<div>\n",
       "<table border=\"1\" class=\"dataframe\">\n",
       "  <thead>\n",
       "    <tr style=\"text-align: right;\">\n",
       "      <th></th>\n",
       "      <th>Amount.Requested</th>\n",
       "      <th>Amount.Funded.By.Investors</th>\n",
       "      <th>Interest.Rate</th>\n",
       "      <th>Loan.Length</th>\n",
       "      <th>Loan.Purpose</th>\n",
       "      <th>Debt.To.Income.Ratio</th>\n",
       "      <th>State</th>\n",
       "      <th>Home.Ownership</th>\n",
       "      <th>Monthly.Income</th>\n",
       "      <th>FICO.Range</th>\n",
       "      <th>Open.CREDIT.Lines</th>\n",
       "      <th>Revolving.CREDIT.Balance</th>\n",
       "      <th>Inquiries.in.the.Last.6.Months</th>\n",
       "      <th>Employment.Length</th>\n",
       "      <th>FICO.Score</th>\n",
       "      <th>IR_TF</th>\n",
       "      <th>Intercept</th>\n",
       "    </tr>\n",
       "  </thead>\n",
       "  <tbody>\n",
       "    <tr>\n",
       "      <th>48808</th>\n",
       "      <td>10000</td>\n",
       "      <td>10000.0</td>\n",
       "      <td>7.90</td>\n",
       "      <td>36 months</td>\n",
       "      <td>debt_consolidation</td>\n",
       "      <td>26.09%</td>\n",
       "      <td>MA</td>\n",
       "      <td>RENT</td>\n",
       "      <td>2916.67</td>\n",
       "      <td>720-724</td>\n",
       "      <td>10.0</td>\n",
       "      <td>15957.0</td>\n",
       "      <td>0.0</td>\n",
       "      <td>10+ years</td>\n",
       "      <td>720</td>\n",
       "      <td>0</td>\n",
       "      <td>1</td>\n",
       "    </tr>\n",
       "    <tr>\n",
       "      <th>62127</th>\n",
       "      <td>10000</td>\n",
       "      <td>10000.0</td>\n",
       "      <td>12.12</td>\n",
       "      <td>36 months</td>\n",
       "      <td>debt_consolidation</td>\n",
       "      <td>17.72%</td>\n",
       "      <td>CA</td>\n",
       "      <td>RENT</td>\n",
       "      <td>9000.00</td>\n",
       "      <td>695-699</td>\n",
       "      <td>18.0</td>\n",
       "      <td>20317.0</td>\n",
       "      <td>0.0</td>\n",
       "      <td>7 years</td>\n",
       "      <td>695</td>\n",
       "      <td>1</td>\n",
       "      <td>1</td>\n",
       "    </tr>\n",
       "    <tr>\n",
       "      <th>44987</th>\n",
       "      <td>10000</td>\n",
       "      <td>10000.0</td>\n",
       "      <td>9.76</td>\n",
       "      <td>36 months</td>\n",
       "      <td>credit_card</td>\n",
       "      <td>7.13%</td>\n",
       "      <td>FL</td>\n",
       "      <td>RENT</td>\n",
       "      <td>2733.33</td>\n",
       "      <td>730-734</td>\n",
       "      <td>7.0</td>\n",
       "      <td>6112.0</td>\n",
       "      <td>2.0</td>\n",
       "      <td>3 years</td>\n",
       "      <td>730</td>\n",
       "      <td>0</td>\n",
       "      <td>1</td>\n",
       "    </tr>\n",
       "    <tr>\n",
       "      <th>61703</th>\n",
       "      <td>10000</td>\n",
       "      <td>10000.0</td>\n",
       "      <td>17.77</td>\n",
       "      <td>36 months</td>\n",
       "      <td>wedding</td>\n",
       "      <td>30.40%</td>\n",
       "      <td>NY</td>\n",
       "      <td>OWN</td>\n",
       "      <td>2500.00</td>\n",
       "      <td>665-669</td>\n",
       "      <td>5.0</td>\n",
       "      <td>8379.0</td>\n",
       "      <td>0.0</td>\n",
       "      <td>8 years</td>\n",
       "      <td>665</td>\n",
       "      <td>1</td>\n",
       "      <td>1</td>\n",
       "    </tr>\n",
       "    <tr>\n",
       "      <th>67158</th>\n",
       "      <td>10000</td>\n",
       "      <td>10000.0</td>\n",
       "      <td>14.09</td>\n",
       "      <td>36 months</td>\n",
       "      <td>debt_consolidation</td>\n",
       "      <td>21.45%</td>\n",
       "      <td>CO</td>\n",
       "      <td>RENT</td>\n",
       "      <td>4583.33</td>\n",
       "      <td>675-679</td>\n",
       "      <td>11.0</td>\n",
       "      <td>8548.0</td>\n",
       "      <td>0.0</td>\n",
       "      <td>6 years</td>\n",
       "      <td>675</td>\n",
       "      <td>1</td>\n",
       "      <td>1</td>\n",
       "    </tr>\n",
       "  </tbody>\n",
       "</table>\n",
       "</div>"
      ],
      "text/plain": [
       "       Amount.Requested  Amount.Funded.By.Investors  Interest.Rate  \\\n",
       "48808             10000                     10000.0           7.90   \n",
       "62127             10000                     10000.0          12.12   \n",
       "44987             10000                     10000.0           9.76   \n",
       "61703             10000                     10000.0          17.77   \n",
       "67158             10000                     10000.0          14.09   \n",
       "\n",
       "      Loan.Length        Loan.Purpose Debt.To.Income.Ratio State  \\\n",
       "48808   36 months  debt_consolidation               26.09%    MA   \n",
       "62127   36 months  debt_consolidation               17.72%    CA   \n",
       "44987   36 months         credit_card                7.13%    FL   \n",
       "61703   36 months             wedding               30.40%    NY   \n",
       "67158   36 months  debt_consolidation               21.45%    CO   \n",
       "\n",
       "      Home.Ownership  Monthly.Income FICO.Range  Open.CREDIT.Lines  \\\n",
       "48808           RENT         2916.67    720-724               10.0   \n",
       "62127           RENT         9000.00    695-699               18.0   \n",
       "44987           RENT         2733.33    730-734                7.0   \n",
       "61703            OWN         2500.00    665-669                5.0   \n",
       "67158           RENT         4583.33    675-679               11.0   \n",
       "\n",
       "       Revolving.CREDIT.Balance  Inquiries.in.the.Last.6.Months  \\\n",
       "48808                   15957.0                             0.0   \n",
       "62127                   20317.0                             0.0   \n",
       "44987                    6112.0                             2.0   \n",
       "61703                    8379.0                             0.0   \n",
       "67158                    8548.0                             0.0   \n",
       "\n",
       "      Employment.Length  FICO.Score  IR_TF  Intercept  \n",
       "48808         10+ years         720      0          1  \n",
       "62127           7 years         695      1          1  \n",
       "44987           3 years         730      0          1  \n",
       "61703           8 years         665      1          1  \n",
       "67158           6 years         675      1          1  "
      ]
     },
     "execution_count": 19,
     "metadata": {},
     "output_type": "execute_result"
    }
   ],
   "source": [
    "loansData[loansData['Amount.Funded.By.Investors']==10000].head()"
   ]
  },
  {
   "cell_type": "code",
   "execution_count": 21,
   "metadata": {
    "collapsed": false,
    "scrolled": true
   },
   "outputs": [
    {
     "data": {
      "text/plain": [
       "<matplotlib.collections.PathCollection at 0xeac3b38>"
      ]
     },
     "execution_count": 21,
     "metadata": {},
     "output_type": "execute_result"
    },
    {
     "data": {
      "image/png": "[encoded data removed]",
      "text/plain": [
       "<matplotlib.figure.Figure at 0xe9070f0>"
      ]
     },
     "metadata": {},
     "output_type": "display_data"
    }
   ],
   "source": [
    "plt.scatter(loansData['Amount.Funded.By.Investors'],loansData['Interest.Rate'])"
   ]
  },
  {
   "cell_type": "code",
   "execution_count": 24,
   "metadata": {
    "collapsed": false
   },
   "outputs": [
    {
     "name": "stdout",
     "output_type": "stream",
     "text": [
      "C:\\Users\\Danius\\Desktop\\Python\\Thinkful\\Thinkful-Unit2\n"
     ]
    }
   ],
   "source": [
    "cd Desktop/Python/Thinkful/Thinkful-Unit2/"
   ]
  }
 ],
 "metadata": {
  "kernelspec": {
   "display_name": "Python [Root]",
   "language": "python",
   "name": "Python [Root]"
  },
  "language_info": {
   "codemirror_mode": {
    "name": "ipython",
    "version": 2
   },
   "file_extension": ".py",
   "mimetype": "text/x-python",
   "name": "python",
   "nbconvert_exporter": "python",
   "pygments_lexer": "ipython2",
   "version": "2.7.11"
  }
 },
 "nbformat": 4,
 "nbformat_minor": 0
}
